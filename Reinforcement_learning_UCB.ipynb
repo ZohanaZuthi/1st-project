{
  "nbformat": 4,
  "nbformat_minor": 0,
  "metadata": {
    "colab": {
      "provenance": [],
      "authorship_tag": "ABX9TyN1Q5uqJyBVZgPzXsPJ6yQX",
      "include_colab_link": true
    },
    "kernelspec": {
      "name": "python3",
      "display_name": "Python 3"
    },
    "language_info": {
      "name": "python"
    }
  },
  "cells": [
    {
      "cell_type": "markdown",
      "metadata": {
        "id": "view-in-github",
        "colab_type": "text"
      },
      "source": [
        "<a href=\"https://colab.research.google.com/github/ZohanaZuthi/Machine_Learning_Algorithm_Udemy/blob/main/Reinforcement_learning_UCB.ipynb\" target=\"_parent\"><img src=\"https://colab.research.google.com/assets/colab-badge.svg\" alt=\"Open In Colab\"/></a>"
      ]
    },
    {
      "cell_type": "markdown",
      "source": [
        "## **Upper Confidence Bound (UCB)**"
      ],
      "metadata": {
        "id": "tVF844FPymVN"
      }
    },
    {
      "cell_type": "markdown",
      "source": [
        "## Importing the libraries"
      ],
      "metadata": {
        "id": "qTIpNJGlyuEH"
      }
    },
    {
      "cell_type": "code",
      "source": [
        "import numpy as np\n",
        "import matplotlib.pyplot as plt\n",
        "import pandas as pd"
      ],
      "metadata": {
        "id": "z5vnTiJ-JI5R"
      },
      "execution_count": 4,
      "outputs": []
    },
    {
      "cell_type": "markdown",
      "source": [
        "## importing the dataset"
      ],
      "metadata": {
        "id": "Sx3eeBu6y0O4"
      }
    },
    {
      "cell_type": "code",
      "source": [
        "dataset=pd.read_csv(\"Ads_CTR_Optimisation.csv\")"
      ],
      "metadata": {
        "id": "Kx2Bx1TSzQNc"
      },
      "execution_count": 5,
      "outputs": []
    },
    {
      "cell_type": "markdown",
      "source": [
        "## Implementing UCB"
      ],
      "metadata": {
        "id": "D0wmu5_ozWnz"
      }
    },
    {
      "cell_type": "code",
      "source": [
        "import math\n",
        "# total number of round or users\n",
        "N=10000\n",
        "# the number of ads\n",
        "d=10\n",
        "ads_selected=[]\n",
        "numbers_of_selections=[0]*d\n",
        "sums_of_rewards=[0]*d\n",
        "total_reward=0\n",
        "for n in range(0,N):\n",
        "  ad=0\n",
        "  max_upper_bound=0\n",
        "  for i in range(0,d):\n",
        "    if (numbers_of_selections[i]>0):\n",
        "       av_reward=sums_of_rewards[i]/numbers_of_selections[i]\n",
        "       delta_i=math.sqrt(3/2*(math.log(n+1)/numbers_of_selections[i]))\n",
        "       upper_bound=av_reward+delta_i\n",
        "    else:\n",
        "       upper_bound=1e400\n",
        "    if(upper_bound>max_upper_bound):\n",
        "      max_upper_bound=upper_bound\n",
        "      ad=i\n",
        "    ads_selected.append(ad)\n",
        "    numbers_of_selections[ad]+=1\n",
        "    reward=dataset.values[n,ad]\n",
        "    sums_of_rewards[ad]+=reward\n",
        "    total_reward+=reward\n"
      ],
      "metadata": {
        "id": "h3P2jhjIyz1b"
      },
      "execution_count": 6,
      "outputs": []
    },
    {
      "cell_type": "markdown",
      "source": [
        "## Visualizing the results"
      ],
      "metadata": {
        "id": "nLVlJghWzaTU"
      }
    },
    {
      "cell_type": "code",
      "source": [
        "plt.hist(ads_selected)\n",
        "plt.title(\"Histogram of ads selections\")\n",
        "plt.xlabel(\"Ads\")\n",
        "plt.ylabel(\"Number of time each ad was selected\")\n",
        "plt.show()"
      ],
      "metadata": {
        "id": "fJevPcqTzc4B",
        "colab": {
          "base_uri": "https://localhost:8080/",
          "height": 472
        },
        "outputId": "62854ab8-6c4e-4afc-a663-d4dfd96c8d11"
      },
      "execution_count": 7,
      "outputs": [
        {
          "output_type": "display_data",
          "data": {
            "text/plain": [
              "<Figure size 640x480 with 1 Axes>"
            ],
            "image/png": "[encoded data removed]"
          },
          "metadata": {}
        }
      ]
    }
  ]
}